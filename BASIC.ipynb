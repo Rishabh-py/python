{
  "nbformat": 4,
  "nbformat_minor": 0,
  "metadata": {
    "colab": {
      "name": "pyd.ipynb",
      "provenance": [],
      "authorship_tag": "ABX9TyMLO04AwapjbWL33ZK+75XK",
      "include_colab_link": true
    },
    "kernelspec": {
      "name": "python3",
      "display_name": "Python 3"
    }
  },
  "cells": [
    {
      "cell_type": "markdown",
      "metadata": {
        "id": "view-in-github",
        "colab_type": "text"
      },
      "source": [
        "<a href=\"https://colab.research.google.com/github/codebufferr/python/blob/master/BASIC.ipynb\" target=\"_parent\"><img src=\"https://colab.research.google.com/assets/colab-badge.svg\" alt=\"Open In Colab\"/></a>"
      ]
    },
    {
      "cell_type": "code",
      "metadata": {
        "id": "91k07HBjivqo",
        "colab_type": "code",
        "colab": {
          "base_uri": "https://localhost:8080/",
          "height": 34
        },
        "outputId": "03590e52-4a13-4218-953f-51582d1d37f8"
      },
      "source": [
        "print(\"hello world\")"
      ],
      "execution_count": 2,
      "outputs": [
        {
          "output_type": "stream",
          "text": [
            "hello world\n"
          ],
          "name": "stdout"
        }
      ]
    },
    {
      "cell_type": "markdown",
      "metadata": {
        "id": "MdYHKt58jDTE",
        "colab_type": "text"
      },
      "source": [
        "The name Python was selected from the TV Show\n",
        " \"The Complete\n",
        " Monty\n",
        " Python's\n",
        " \n",
        "\n",
        "1. Functional Programming Features from C\n",
        "2. Object Oriented Programming Features from C++\n",
        "3. Scripting Language Features from Perl and Shell Script\n",
        "\n",
        "\n",
        "Where we can use Python:\n",
        "We can use everywhere. The most common important application areas are\n",
        "1. For developing Desktop Applications\n",
        "2. For developing web Applications\n",
        "3. For developing database Applications\n",
        "4. For Network Programming\n",
        "5. For developing games\n",
        "6. For Data Analysis Applications\n",
        "7. For Machine Learning\n",
        "8. For developing Artificial Intelligence Applications\n",
        "9. For IOT"
      ]
    },
    {
      "cell_type": "code",
      "metadata": {
        "id": "6-t5SiGDkNC_",
        "colab_type": "code",
        "colab": {
          "base_uri": "https://localhost:8080/",
          "height": 68
        },
        "outputId": "87664e0f-3345-4fc3-c92f-d87c8cfface3"
      },
      "source": [
        "a=int(input(\"Enter the 1st number:\"))\n",
        "b=int(input(\"Enter the 2nd number:\"))\n",
        "print(\"sum\",a+b,\"mult\",a*b,\"subs\",a-b,\"devide\",a/b)"
      ],
      "execution_count": 3,
      "outputs": [
        {
          "output_type": "stream",
          "text": [
            "Enter the 1st number:121\n",
            "Enter the 2nd number:12\n",
            "sum 133 mult 1452 subs 109 devide 10.083333333333334\n"
          ],
          "name": "stdout"
        }
      ]
    },
    {
      "cell_type": "markdown",
      "metadata": {
        "id": "PcX4loBAli3N",
        "colab_type": "text"
      },
      "source": [
        "you can ask input by this method \n",
        "\n",
        "\n",
        "1. alphabet symbols(either lower case or upper case)\n",
        "2. digits(0 to 9)\n",
        "3. underscore(_)\n",
        "4. Doller symbol is not allowed \n",
        "5. If identifier starts with _ symbol then it indicates that it is private\n",
        "6. If identifier starts with __(two under score symbols) indicating that strongly private\n",
        "identifier.\n",
        "7. If the identifier starts and ends with two underscore symbols then the identifier is\n",
        "8. language defined special name,which is also known as magic methods.\n",
        "\n",
        "There are 33 reserved words available in Python.\n",
        "\n",
        " True,False,None\n",
        " and, or ,not,is\n",
        " if,elif,else\n",
        " while,for,break,continue,return,in,yield\n",
        " try,except,finally,raise,assert\n",
        " import,from,as,class,def,pass,global,nonlocal,lamda,del with\n",
        "\n",
        " *Except 3 kewwords all contain only lower case\n",
        "\n",
        " True,False,None\n",
        " "
      ]
    },
    {
      "cell_type": "code",
      "metadata": {
        "id": "f4aa2pwzmZ7p",
        "colab_type": "code",
        "colab": {
          "base_uri": "https://localhost:8080/",
          "height": 34
        },
        "outputId": "8a66c152-6aee-45c2-d424-88c792651e8e"
      },
      "source": [
        "a=10\n",
        "id(a)\n"
      ],
      "execution_count": 11,
      "outputs": [
        {
          "output_type": "execute_result",
          "data": {
            "text/plain": [
              "int"
            ]
          },
          "metadata": {
            "tags": []
          },
          "execution_count": 11
        }
      ]
    },
    {
      "cell_type": "markdown",
      "metadata": {
        "id": "DUykZdlwpTeb",
        "colab_type": "text"
      },
      "source": [
        "we can know the Adress , type of the given input\n",
        "type()\n",
        "id()\n"
      ]
    },
    {
      "cell_type": "code",
      "metadata": {
        "id": "UsG377NZpzdw",
        "colab_type": "code",
        "colab": {
          "base_uri": "https://localhost:8080/",
          "height": 51
        },
        "outputId": "71327086-a0a8-4787-d6e1-04f842b86ddc"
      },
      "source": [
        "a=12+3.6j\n",
        "print(a.real)\n",
        "print(a.imag)"
      ],
      "execution_count": 16,
      "outputs": [
        {
          "output_type": "stream",
          "text": [
            "12.0\n",
            "3.6\n"
          ],
          "name": "stdout"
        }
      ]
    },
    {
      "cell_type": "code",
      "metadata": {
        "id": "150bIYzpqrEC",
        "colab_type": "code",
        "colab": {
          "base_uri": "https://localhost:8080/",
          "height": 68
        },
        "outputId": "73b78193-ff3d-4d5c-a233-98284edb9fa1"
      },
      "source": [
        "a=int(input(\"number1:\"))\n",
        "b=int(input(\"number2:\"))\n",
        "c=a>b\n",
        "print(c)"
      ],
      "execution_count": 2,
      "outputs": [
        {
          "output_type": "stream",
          "text": [
            "number1:123\n",
            "number2:124\n",
            "False\n"
          ],
          "name": "stdout"
        }
      ]
    },
    {
      "cell_type": "markdown",
      "metadata": {
        "id": "EqEk81pTrgNv",
        "colab_type": "text"
      },
      "source": [
        "for BOOL function\n",
        "\n",
        "# We can use this data type to represent boolean values.\n",
        " #The only allowed values for this data type are:\n",
        " True and False\n",
        "\n",
        " #internally they present 0 for false and 1 for TRUE\n",
        "\n"
      ]
    }
  ]
}